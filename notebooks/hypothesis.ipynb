{
 "cells": [
  {
   "cell_type": "markdown",
   "metadata": {},
   "source": [
    "## Indetificar a los operadores menos eficientes"
   ]
  },
  {
   "cell_type": "code",
   "execution_count": 12,
   "metadata": {},
   "outputs": [],
   "source": [
    "import pandas as pd\n",
    "import seaborn as sns\n",
    "import matplotlib.pyplot as plt\n",
    "from scipy.stats import ttest_ind, mannwhitneyu, shapiro, levene\n",
    "from sklearn.model_selection import train_test_split\n",
    "from sklearn.linear_model import LogisticRegression\n",
    "\n",
    "from sklearn.metrics import accuracy_score, precision_score, recall_score, f1_score"
   ]
  },
  {
   "cell_type": "code",
   "execution_count": 2,
   "metadata": {},
   "outputs": [],
   "source": [
    "# cargar los datasets\n",
    "calls_info_df_c = pd.read_csv('../datasets/clean/calls_info_df_clean.csv')\n",
    "clients_df_c = pd.read_csv('../datasets/clean/clients_df_clean.csv')"
   ]
  },
  {
   "cell_type": "markdown",
   "metadata": {},
   "source": [
    "1. Se considera que un operador es ineficaz si tiene una gran cantidad de llamadas entrantes perdidas (internas y externas).\n",
    "\n",
    "2. Un tiempo de espera prolongado para las llamadas entrantes.\n",
    "\n",
    "3. Un operador debe realizar llamadas salientes, un número reducido de ellas también será un signo de ineficacia."
   ]
  },
  {
   "cell_type": "code",
   "execution_count": 3,
   "metadata": {},
   "outputs": [
    {
     "name": "stdout",
     "output_type": "stream",
     "text": [
      "['880022' '880020' '881278' ... '952916' '959118' '957922']\n"
     ]
    }
   ],
   "source": [
    "# vamos a dividir en dos data frames llamadas entrantes y salientes y excluir a los operadores no identificados\n",
    "filtro_operator_id = calls_info_df_c[calls_info_df_c['operator_id'] != 'No indentificado']\n",
    "\n",
    "# Verificar los valores únicos de 'operator_id' después del filtro\n",
    "print(filtro_operator_id['operator_id'].unique())"
   ]
  },
  {
   "cell_type": "code",
   "execution_count": 4,
   "metadata": {},
   "outputs": [
    {
     "data": {
      "image/png": "[encoded data removed]",
      "text/plain": [
       "<Figure size 1000x500 with 1 Axes>"
      ]
     },
     "metadata": {},
     "output_type": "display_data"
    }
   ],
   "source": [
    "# Agrupar por operador y contar llamadas perdidas\n",
    "missed_calls_by_operator_ = filtro_operator_id[filtro_operator_id['is_missed_call']].groupby('operator_id').size()\n",
    "\n",
    "# Gráfico de barras\n",
    "missed_calls_by_operator_.sort_values(ascending=False).head(10).plot(kind='bar', figsize=(10, 5))\n",
    "plt.title('Top 10 operadores con más llamadas perdidas')\n",
    "plt.xlabel('Operador')\n",
    "plt.ylabel('Número de llamadas perdidas')\n",
    "plt.show()"
   ]
  },
  {
   "cell_type": "code",
   "execution_count": 5,
   "metadata": {},
   "outputs": [],
   "source": [
    "# filtramos por dirección de la llamada\n",
    "calls_in = filtro_operator_id[filtro_operator_id['direction'] == 'in']\n",
    "calls_out = filtro_operator_id[filtro_operator_id['direction'] == 'out']"
   ]
  },
  {
   "cell_type": "code",
   "execution_count": 6,
   "metadata": {},
   "outputs": [
    {
     "name": "stdout",
     "output_type": "stream",
     "text": [
      "Métricas para llamadas entrantes:\n",
      "             total_llamadas  llamadas_perdidas  duracion_promedio  \\\n",
      "operator_id                                                         \n",
      "879896                   58                  0         267.428571   \n",
      "879898                  104                  0         111.456140   \n",
      "880020                    7                  0          42.714286   \n",
      "880022                    8                  0          64.000000   \n",
      "880026                   24                  0          88.166667   \n",
      "\n",
      "             tiempo_espera_promedio  \n",
      "operator_id                          \n",
      "879896                   294.761905  \n",
      "879898                   140.929825  \n",
      "880020                    50.428571  \n",
      "880022                    78.000000  \n",
      "880026                    96.111111  \n",
      "\n",
      "total_llamadas            754\n",
      "llamadas_perdidas         754\n",
      "duracion_promedio         754\n",
      "tiempo_espera_promedio    754\n",
      "dtype: int64\n",
      "\n",
      "Métricas para llamadas salientes:\n",
      "             total_llamadas  llamadas_perdidas  duracion_promedio  \\\n",
      "operator_id                                                         \n",
      "879896                  872                 47         606.729167   \n",
      "879898                 7209                 89        1476.694118   \n",
      "880020                   38                  6         149.692308   \n",
      "880022                  189                 29         236.048387   \n",
      "880026                 2208                 87         925.237805   \n",
      "\n",
      "             tiempo_espera_promedio  \n",
      "operator_id                          \n",
      "879896                   728.614583  \n",
      "879898                  2077.970588  \n",
      "880020                   167.076923  \n",
      "880022                   295.177419  \n",
      "880026                  1059.731707  \n",
      "\n",
      "total_llamadas            882\n",
      "llamadas_perdidas         882\n",
      "duracion_promedio         882\n",
      "tiempo_espera_promedio    882\n",
      "dtype: int64\n"
     ]
    }
   ],
   "source": [
    "metrics_in = calls_in.groupby('operator_id').agg(\n",
    "    total_llamadas=('calls_count', 'sum'),\n",
    "    llamadas_perdidas=('is_missed_call', 'sum'),\n",
    "    duracion_promedio=('call_duration', 'mean'),\n",
    "    tiempo_espera_promedio=('total_call_duration', 'mean')\n",
    ")\n",
    "\n",
    "# Paso 4: Calcular métricas por operador para llamadas salientes\n",
    "metrics_out = calls_out.groupby('operator_id').agg(\n",
    "    total_llamadas=('calls_count', 'sum'),\n",
    "    llamadas_perdidas=('is_missed_call', 'sum'),\n",
    "    duracion_promedio=('call_duration', 'mean'),\n",
    "    tiempo_espera_promedio=('total_call_duration', 'mean')\n",
    ")\n",
    "\n",
    "# Mostrar resultados\n",
    "print(\"Métricas para llamadas entrantes:\")\n",
    "print(metrics_in.head())\n",
    "print()\n",
    "print(metrics_in.count())\n",
    "\n",
    "print(\"\\nMétricas para llamadas salientes:\")\n",
    "print(metrics_out.head())\n",
    "print()\n",
    "print(metrics_out.count())"
   ]
  },
  {
   "cell_type": "code",
   "execution_count": 7,
   "metadata": {},
   "outputs": [],
   "source": [
    "# calcular las medias para determinar los umbrales\n",
    "mean_call_missed_in = (metrics_in['llamadas_perdidas'].sum() / metrics_in['total_llamadas'].sum()) * 100\n",
    "mean_wait_in = (metrics_in['tiempo_espera_promedio'] - metrics_in['duracion_promedio']).mean()\n",
    "\n",
    "mean_call_missed_out = metrics_out['llamadas_perdidas'].mean()"
   ]
  },
  {
   "cell_type": "code",
   "execution_count": 8,
   "metadata": {},
   "outputs": [
    {
     "name": "stdout",
     "output_type": "stream",
     "text": [
      "0.7302616148909405\n",
      "57.61280684438693\n",
      "15.22108843537415\n"
     ]
    }
   ],
   "source": [
    "print(mean_call_missed_in)\n",
    "print(mean_wait_in)\n",
    "print(mean_call_missed_out)"
   ]
  },
  {
   "cell_type": "markdown",
   "metadata": {},
   "source": [
    "1. Se considera que un operador es ineficaz si tiene una gran cantidad de llamadas entrantes perdidas (internas y externas)."
   ]
  },
  {
   "cell_type": "code",
   "execution_count": 9,
   "metadata": {},
   "outputs": [
    {
     "name": "stdout",
     "output_type": "stream",
     "text": [
      "Operadores ineficaces en llamadas entrantes:\n",
      "             total_llamadas  llamadas_perdidas  duracion_promedio  \\\n",
      "operator_id                                                         \n",
      "882684                  613                  4        2614.060000   \n",
      "882686                  766                  5        2117.205882   \n",
      "882688                   15                  0         741.500000   \n",
      "882690                  171                  2         665.363636   \n",
      "884408                   35                  3         123.428571   \n",
      "...                     ...                ...                ...   \n",
      "969294                   84                  0        1869.750000   \n",
      "970244                    2                  0         141.000000   \n",
      "970254                    3                  0         117.000000   \n",
      "971102                   76                  0        2653.000000   \n",
      "973286                    2                  0          17.000000   \n",
      "\n",
      "             tiempo_espera_promedio  ineffective_in  \n",
      "operator_id                                          \n",
      "882684                  2804.580000            True  \n",
      "882686                  2282.955882            True  \n",
      "882688                  1078.000000            True  \n",
      "882690                   988.181818            True  \n",
      "884408                   189.428571            True  \n",
      "...                             ...             ...  \n",
      "969294                  2047.250000            True  \n",
      "970244                   222.000000            True  \n",
      "970254                   238.000000            True  \n",
      "971102                  2991.000000            True  \n",
      "973286                   105.000000            True  \n",
      "\n",
      "[192 rows x 5 columns]\n",
      "\n",
      "Operadores ineficaces en llamadas salientes:\n",
      "             total_llamadas  llamadas_perdidas  duracion_promedio  \\\n",
      "operator_id                                                         \n",
      "882478                    1                  1           0.000000   \n",
      "883018                    2                  1           0.000000   \n",
      "883898                    1                  0          70.000000   \n",
      "884402                    4                  1          71.333333   \n",
      "884406                    3                  1           4.000000   \n",
      "...                     ...                ...                ...   \n",
      "970258                    1                  1           0.000000   \n",
      "970484                    7                  2          25.000000   \n",
      "970486                    6                  2          75.000000   \n",
      "972408                    6                  1         100.000000   \n",
      "973120                    3                  1           2.500000   \n",
      "\n",
      "             tiempo_espera_promedio  ineffective_out  \n",
      "operator_id                                           \n",
      "882478                     7.000000             True  \n",
      "883018                    15.000000             True  \n",
      "883898                    80.000000             True  \n",
      "884402                    95.666667             True  \n",
      "884406                    39.500000             True  \n",
      "...                             ...              ...  \n",
      "970258                    11.000000             True  \n",
      "970484                    39.000000             True  \n",
      "970486                    89.000000             True  \n",
      "972408                   122.500000             True  \n",
      "973120                    12.500000             True  \n",
      "\n",
      "[254 rows x 5 columns]\n"
     ]
    }
   ],
   "source": [
    "# Definir umbrales\n",
    "threshold_missed = mean_call_missed_in  #% de llamadas perdidas\n",
    "threshold_wait = mean_wait_in     # segundos de tiempo de espera promedio\n",
    "threshold_outgoing = mean_call_missed_out # llamadas salientes\n",
    "\n",
    "# Identificar operadores ineficaces en llamadas entrantes\n",
    "metrics_in['ineffective_in'] = (\n",
    "    (metrics_in['llamadas_perdidas'] / metrics_in['total_llamadas'] > threshold_missed) |  # Alto porcentaje de llamadas perdidas\n",
    "    (metrics_in['tiempo_espera_promedio'] - metrics_in['duracion_promedio'] > threshold_wait)  # Tiempo de espera prolongado\n",
    ")\n",
    "\n",
    "# Identificar operadores ineficaces en llamadas salientes\n",
    "metrics_out['ineffective_out'] = (\n",
    "    metrics_out['total_llamadas'] < threshold_outgoing  # Pocas llamadas salientes\n",
    ")  # Duración de llamada muy alta\n",
    "\n",
    "\n",
    "# Filtrar operadores ineficaces\n",
    "ineffective_operators_in = metrics_in[metrics_in['ineffective_in']]\n",
    "ineffective_operators_out = metrics_out[metrics_out['ineffective_out']]\n",
    "\n",
    "# Mostrar resultados\n",
    "print(\"Operadores ineficaces en llamadas entrantes:\")\n",
    "print(ineffective_operators_in)\n",
    "\n",
    "print(\"\\nOperadores ineficaces en llamadas salientes:\")\n",
    "print(ineffective_operators_out)"
   ]
  },
  {
   "cell_type": "markdown",
   "metadata": {},
   "source": [
    "### Proponer una hipótesis"
   ]
  },
  {
   "cell_type": "markdown",
   "metadata": {},
   "source": [
    "Eficacia de los operadores:\n",
    "\n",
    "Hipótesis:\n",
    "\n",
    "H0: No hay diferencia en el número de llamadas salientes entre operadores ineficaces y eficaces.   \n",
    "H1: Los operadores ineficaces realizan significativamente menos llamadas salientes."
   ]
  },
  {
   "cell_type": "code",
   "execution_count": 13,
   "metadata": {},
   "outputs": [
    {
     "name": "stdout",
     "output_type": "stream",
     "text": [
      "\n",
      "Resultado de la prueba U de Mann-Whitney:\n",
      "Estadístico U: 0.00, Valor p: 0.0000\n",
      "\n",
      "Rechazamos la hipótesis nula: Hay una diferencia significativa en el número de llamadas salientes.\n"
     ]
    }
   ],
   "source": [
    "# Supongamos que ya tienes metrics_out con la columna 'ineffective_out'\n",
    "# Filtrar operadores ineficaces y eficaces\n",
    "llamadas_ineficaces = metrics_out[metrics_out['ineffective_out']]['total_llamadas']\n",
    "llamadas_eficaces = metrics_out[~metrics_out['ineffective_out']]['total_llamadas']\n",
    "\n",
    "\n",
    "u_stat, p_value = mannwhitneyu(llamadas_ineficaces, llamadas_eficaces)\n",
    "print(\"\\nResultado de la prueba U de Mann-Whitney:\")\n",
    "print(f\"Estadístico U: {u_stat:.2f}, Valor p: {p_value:.4f}\")\n",
    "\n",
    "# Interpretación\n",
    "if p_value < 0.05:\n",
    "    print(\"\\nRechazamos la hipótesis nula: Hay una diferencia significativa en el número de llamadas salientes.\")\n",
    "else:\n",
    "    print(\"\\nNo rechazamos la hipótesis nula: No hay una diferencia significativa en el número de llamadas salientes.\")"
   ]
  },
  {
   "cell_type": "code",
   "execution_count": 14,
   "metadata": {},
   "outputs": [
    {
     "name": "stderr",
     "output_type": "stream",
     "text": [
      "/var/folders/2k/b1dxbcm15wl1lwf54_m3c9lm0000gn/T/ipykernel_41191/1691240719.py:2: FutureWarning: \n",
      "\n",
      "Passing `palette` without assigning `hue` is deprecated and will be removed in v0.14.0. Assign the `x` variable to `hue` and set `legend=False` for the same effect.\n",
      "\n",
      "  sns.boxplot(x=metrics_out['ineffective_out'], y=metrics_out['total_llamadas'], palette='Set2')\n"
     ]
    },
    {
     "data": {
      "image/png": "[encoded data removed]",
      "text/plain": [
       "<Figure size 1000x600 with 1 Axes>"
      ]
     },
     "metadata": {},
     "output_type": "display_data"
    }
   ],
   "source": [
    "plt.figure(figsize=(10, 6))\n",
    "sns.boxplot(x=metrics_out['ineffective_out'], y=metrics_out['total_llamadas'], palette='Set2')\n",
    "plt.title('Distribución de llamadas salientes: Ineficaces vs. Eficaces')\n",
    "plt.xlabel('Operadores ineficaces')\n",
    "plt.ylabel('Número de llamadas salientes')\n",
    "plt.xticks([0, 1], ['Eficaces', 'Ineficaces'])\n",
    "plt.show()"
   ]
  },
  {
   "cell_type": "code",
   "execution_count": 15,
   "metadata": {},
   "outputs": [
    {
     "data": {
      "image/png": "[encoded data removed]",
      "text/plain": [
       "<Figure size 1000x600 with 1 Axes>"
      ]
     },
     "metadata": {},
     "output_type": "display_data"
    }
   ],
   "source": [
    "# Configurar el estilo del gráfico\n",
    "sns.set(style=\"whitegrid\")\n",
    "\n",
    "# Crear el gráfico de distribución\n",
    "plt.figure(figsize=(10, 6))\n",
    "sns.histplot(metrics_out[metrics_out['ineffective_out']]['total_llamadas'], \n",
    "             color='red', label='Ineficaces', kde=True, bins=20, alpha=0.5)\n",
    "sns.histplot(metrics_out[~metrics_out['ineffective_out']]['total_llamadas'], \n",
    "             color='green', label='Eficaces', kde=True, bins=20, alpha=0.5)\n",
    "\n",
    "# Añadir título y etiquetas\n",
    "plt.title('Distribución del número de llamadas salientes: Ineficaces vs. Eficaces')\n",
    "plt.xlabel('Número de llamadas salientes')\n",
    "plt.ylabel('Frecuencia')\n",
    "plt.legend(title='Grupo')\n",
    "plt.show()"
   ]
  },
  {
   "cell_type": "markdown",
   "metadata": {},
   "source": [
    "Hay una diferencia significativa en el numero de llamadas salientes entre operadores ineficaces y eficaces.\n",
    "\n",
    "Esto nos podrias indicar que los operadores ineficaces no estan cumpliendo con las expectaivas en terminos de llamadas salientes. Esto podria indicar que existen algunas causas que se deberian atender como alguna falta de capacitación, motivacion o recursos."
   ]
  },
  {
   "cell_type": "markdown",
   "metadata": {},
   "source": [
    "## Predicciones"
   ]
  },
  {
   "cell_type": "markdown",
   "metadata": {},
   "source": [
    "Objetivo:\n",
    "\n",
    "    Implementar un modelo de machine learning para predecir que operadores podrian volverse ineficaces en el futuro para las llamadas entrantes.\n",
    "Definir la tarea:\n",
    "\n",
    "¿Qué estamos pronosticando y qué tarea de negocio puede resolver esto?   \n",
    "Estamos pronosticando aquellos operadores que podrian volverse menos ineficaces, lo que nos permitira crear estrategias para mejorar el rendimiento de los mismos.\n",
    "\n",
    "¿Qué datos tenemos?   \n",
    "Contamos con los siguintes datos:\n",
    "\n",
    "* user_id: ID de la cuenta de cliente\n",
    "* date: fecha en la que se recuperaron las estadísticas\n",
    "* direction: \"dirección\" de llamada (out para saliente, in para entrante)\n",
    "* internal: si la llamada fue interna (entre los operadores de un cliente o clienta)\n",
    "* operator_id: identificador del operador\n",
    "* is_missed_call: si fue una llamada perdida\n",
    "* calls_count: número de llamadas\n",
    "* call_duration: duración de la llamada (sin incluir el tiempo de espera)\n",
    "* total_call_duration: duración de la llamada (incluido el tiempo de espera)\n",
    "\n",
    "¿Quién va a utilizar nuestro modelo y cómo (cómo se integra en los procesos de negocio)?   \n",
    "El modelo sera una nueva función que brindará a los supervisores información sobre los operadores menos eficaces.\n",
    "\n",
    "¿Qué resultados esperamos alcanzar?   \n",
    "Esperamos mejorar el rendimiento de las y los operadores al estar antendiendo a los clientes a traves de las llamadas telefonicas.\n",
    "\n",
    "¿Cómo se ha resuelto el problema hasta ahora? ¿El método fue exitoso?   \n",
    "Hasta ahora, el problema no se ha aborado por lo que no hay información suficiente para dar información concreta.\n",
    "\n",
    "¿Qué efecto podría tener tu modelo en el negocio?   \n",
    "El modelo puede detectar a aquellos operadores que tengan menor eficiencia en atender llamadas y asi poder crear plan de acción que pueda mejorar su rendimiento.\n",
    "\n",
    "¿Tienes suficientes recursos (tiempo, personal, finanzas, recursos computacionales)?   \n",
    "Se espera contar con los recursos necesarios\n",
    "\n",
    "¿Qué métricas utilizarás para evaluar el desempeño de tu modelo?   \n",
    "* Accuracy: -Qué modelo tiene el mayor porcentaje de predicciones correctas\n",
    "* Precision: -Qué modelo tiene la menor proporción de falsos positivos\n",
    "* Recall: -Qué modelo identifica mejor a los operadores ineficaces\n",
    "* F1-Score: -Qué modelo tiene el mejor equilibrio entre precisión y recall\n",
    "* AUC: -Qué modelo tiene la mejor capacidad para distinguir entre clases\n",
    "\n",
    "¿Existe algún referente en el mercado para la aplicación del aprendizaje automático para tareas similares?   \n",
    "Por ahora desconocemos si existe algun referente en el mercado.\n",
    "\n",
    "\n",
    "Lenguaje ML:\n",
    "\n",
    "El tipo de tarea (aprendizaje supervisado o no supervisado; clasificación, regresión o clustering). *** Aprendizaje supervisado: clasificación.\n",
    "\n",
    "Características: ¿Qué datos seleccionar como características?    \n",
    "calls_count, call_duration, total_call_duration, is_missed_call, direction, internal. Datos derivadas: Promedio de llamadas perdidas, tiempo promedio de espera, proporción de llamadas internas vs. externas.\n",
    "\n",
    "¿Cuál es el tamaño de la muestra?   \n",
    "Aun no conocemos el dato, se vialuzalizara mas adelante\n",
    "\n",
    "¿Cuál es el periodo?   \n",
    "Los datos abarcan desde 2019-08-02 al 2019-11-28, aproximadamente 4 meses de operación.\n",
    "\n",
    "¿Qué tan buenos son los datos?   \n",
    "Los datos ya fueron preprocesados para quitar duplicados y datos nulos.\n",
    "\n",
    "¿Los datos tienen una estructura temporal?    \n",
    "si, los datos abarcan 4 meses de operación.\n",
    "\n",
    "Métricas que utilizarás para optimizar y evaluar tu modelo.\n",
    "Accuracy, Precision, Recall, F1-Score y AUC.\n",
    "\n",
    "Los algoritmos que vas a utilizar (según los puntos anteriores).\n",
    "Modelos base como Árboles de Decisión o Regresión Logística para interpretar resultados. Modelos avanzados como Random Forest o Gradient Boosting para mejorar precisión."
   ]
  },
  {
   "cell_type": "code",
   "execution_count": 16,
   "metadata": {},
   "outputs": [
    {
     "data": {
      "text/html": [
       "<div>\n",
       "<style scoped>\n",
       "    .dataframe tbody tr th:only-of-type {\n",
       "        vertical-align: middle;\n",
       "    }\n",
       "\n",
       "    .dataframe tbody tr th {\n",
       "        vertical-align: top;\n",
       "    }\n",
       "\n",
       "    .dataframe thead th {\n",
       "        text-align: right;\n",
       "    }\n",
       "</style>\n",
       "<table border=\"1\" class=\"dataframe\">\n",
       "  <thead>\n",
       "    <tr style=\"text-align: right;\">\n",
       "      <th></th>\n",
       "      <th>total_llamadas</th>\n",
       "      <th>llamadas_perdidas</th>\n",
       "      <th>duracion_promedio</th>\n",
       "      <th>tiempo_espera_promedio</th>\n",
       "    </tr>\n",
       "  </thead>\n",
       "  <tbody>\n",
       "    <tr>\n",
       "      <th>count</th>\n",
       "      <td>754.000000</td>\n",
       "      <td>754.000000</td>\n",
       "      <td>754.000000</td>\n",
       "      <td>754.000000</td>\n",
       "    </tr>\n",
       "    <tr>\n",
       "      <th>mean</th>\n",
       "      <td>124.405836</td>\n",
       "      <td>0.908488</td>\n",
       "      <td>405.987344</td>\n",
       "      <td>463.600150</td>\n",
       "    </tr>\n",
       "    <tr>\n",
       "      <th>std</th>\n",
       "      <td>356.450649</td>\n",
       "      <td>2.405363</td>\n",
       "      <td>757.282822</td>\n",
       "      <td>816.288393</td>\n",
       "    </tr>\n",
       "    <tr>\n",
       "      <th>min</th>\n",
       "      <td>1.000000</td>\n",
       "      <td>0.000000</td>\n",
       "      <td>1.000000</td>\n",
       "      <td>7.000000</td>\n",
       "    </tr>\n",
       "    <tr>\n",
       "      <th>25%</th>\n",
       "      <td>4.000000</td>\n",
       "      <td>0.000000</td>\n",
       "      <td>74.050000</td>\n",
       "      <td>103.083333</td>\n",
       "    </tr>\n",
       "    <tr>\n",
       "      <th>50%</th>\n",
       "      <td>17.000000</td>\n",
       "      <td>0.000000</td>\n",
       "      <td>176.230769</td>\n",
       "      <td>213.566845</td>\n",
       "    </tr>\n",
       "    <tr>\n",
       "      <th>75%</th>\n",
       "      <td>78.750000</td>\n",
       "      <td>1.000000</td>\n",
       "      <td>429.663095</td>\n",
       "      <td>476.244286</td>\n",
       "    </tr>\n",
       "    <tr>\n",
       "      <th>max</th>\n",
       "      <td>4766.000000</td>\n",
       "      <td>28.000000</td>\n",
       "      <td>12032.696970</td>\n",
       "      <td>12203.545455</td>\n",
       "    </tr>\n",
       "  </tbody>\n",
       "</table>\n",
       "</div>"
      ],
      "text/plain": [
       "       total_llamadas  llamadas_perdidas  duracion_promedio  \\\n",
       "count      754.000000         754.000000         754.000000   \n",
       "mean       124.405836           0.908488         405.987344   \n",
       "std        356.450649           2.405363         757.282822   \n",
       "min          1.000000           0.000000           1.000000   \n",
       "25%          4.000000           0.000000          74.050000   \n",
       "50%         17.000000           0.000000         176.230769   \n",
       "75%         78.750000           1.000000         429.663095   \n",
       "max       4766.000000          28.000000       12032.696970   \n",
       "\n",
       "       tiempo_espera_promedio  \n",
       "count              754.000000  \n",
       "mean               463.600150  \n",
       "std                816.288393  \n",
       "min                  7.000000  \n",
       "25%                103.083333  \n",
       "50%                213.566845  \n",
       "75%                476.244286  \n",
       "max              12203.545455  "
      ]
     },
     "execution_count": 16,
     "metadata": {},
     "output_type": "execute_result"
    }
   ],
   "source": [
    "metrics_in.describe()"
   ]
  },
  {
   "cell_type": "code",
   "execution_count": 17,
   "metadata": {},
   "outputs": [
    {
     "name": "stdout",
     "output_type": "stream",
     "text": [
      "             total_llamadas  llamadas_perdidas  duracion_promedio  \\\n",
      "operator_id                                                         \n",
      "879896                   58                  0         267.428571   \n",
      "879898                  104                  0         111.456140   \n",
      "880020                    7                  0          42.714286   \n",
      "880022                    8                  0          64.000000   \n",
      "880026                   24                  0          88.166667   \n",
      "\n",
      "             tiempo_espera_promedio  ineffective_in  \n",
      "operator_id                                          \n",
      "879896                   294.761905           False  \n",
      "879898                   140.929825           False  \n",
      "880020                    50.428571           False  \n",
      "880022                    78.000000           False  \n",
      "880026                    96.111111           False  \n"
     ]
    }
   ],
   "source": [
    "print(metrics_in.head())"
   ]
  },
  {
   "cell_type": "code",
   "execution_count": 18,
   "metadata": {},
   "outputs": [],
   "source": [
    "# para metrics_in\n",
    "X = metrics_in.drop(columns=['ineffective_in'])  # Features\n",
    "y = metrics_in['ineffective_in']  # Variable objetivo\n",
    "\n",
    "# Dividir los datos (80% entrenamiento, 20% prueba)\n",
    "X_train, X_test, y_train, y_test = train_test_split(X, y, test_size=0.2, random_state=42)"
   ]
  },
  {
   "cell_type": "code",
   "execution_count": 19,
   "metadata": {},
   "outputs": [
    {
     "name": "stdout",
     "output_type": "stream",
     "text": [
      "Regresión Logística:\n",
      "Accuracy: 1.0\n",
      "Precision: 1.0\n",
      "Recall: 1.0\n",
      "F1-Score: 1.0\n"
     ]
    }
   ],
   "source": [
    "# Entrenar el modelo\n",
    "model_lr = LogisticRegression()\n",
    "model_lr.fit(X_train, y_train)\n",
    "\n",
    "# Predecir\n",
    "y_pred_lr = model_lr.predict(X_test)\n",
    "\n",
    "# Evaluar\n",
    "print(\"Regresión Logística:\")\n",
    "print(\"Accuracy:\", accuracy_score(y_test, y_pred_lr))\n",
    "print(\"Precision:\", precision_score(y_test, y_pred_lr))\n",
    "print(\"Recall:\", recall_score(y_test, y_pred_lr))\n",
    "print(\"F1-Score:\", f1_score(y_test, y_pred_lr))"
   ]
  },
  {
   "cell_type": "markdown",
   "metadata": {},
   "source": [
    "Conclusiones:\n",
    "\n",
    "Las metricas nos estan arrojando datos muy positivos lo cual nos puede indicar que el modelo clasifico correctamente todas las muestras, sin embargo esto puede ser debido a que la misma muestra viene de los calculos previamente realizados para identificar a los operadores.\n",
    "\n",
    "Para continuar con el modelo tendriamos que solicitar nuevos datos para poder probarlo nuevamente y evaluar que el algoritmo esta realizando correctamente la clasificación.\n",
    "Otro punto a considerar es que se podria divir los datos antes de calcular a los operadores ineficientes, realizar la clasificación de opeardores con el 80% de los datos diviendolos por periodos de tiempo por la variable 'date' y asi el resto poder usarlos para evaluar el modelo."
   ]
  }
 ],
 "metadata": {
  "kernelspec": {
   "display_name": "Python 3",
   "language": "python",
   "name": "python3"
  },
  "language_info": {
   "codemirror_mode": {
    "name": "ipython",
    "version": 3
   },
   "file_extension": ".py",
   "mimetype": "text/x-python",
   "name": "python",
   "nbconvert_exporter": "python",
   "pygments_lexer": "ipython3",
   "version": "3.12.0"
  }
 },
 "nbformat": 4,
 "nbformat_minor": 2
}
